{
  "cells": [
    {
      "cell_type": "code",
      "execution_count": 1,
      "metadata": {
        "id": "IpzgpOMwjfiX"
      },
      "outputs": [],
      "source": [
        "import random\n",
        "import math"
      ]
    },
    {
      "cell_type": "code",
      "execution_count": null,
      "metadata": {
        "id": "qlOfTwzPbSZ3"
      },
      "outputs": [],
      "source": [
        "################\n",
        "#prey move\n",
        "################\n",
        "def movePrey(preyPos, graph):\n",
        "  moves = [preyPos]\n",
        "  for i in range(len(graph[preyPos])):\n",
        "    if graph[preyPos][i]==1:\n",
        "      moves.append(i)\n",
        "  return random.choice(moves)"
      ]
    },
    {
      "cell_type": "code",
      "execution_count": null,
      "metadata": {
        "id": "3gnZfhEHZ-J2"
      },
      "outputs": [],
      "source": [
        "###################\n",
        "#floyd warshall's - predator move \n",
        "###################\n",
        "def floydWarshall(graph):\n",
        "  dist = [[math.inf for i in range(len(graph[0]))]for j in range(len(graph))]\n",
        "  # print(dist)\n",
        "  path = [[i for i in range(V)] for j in range(V)]\n",
        "\n",
        "  for i in range(len(graph)):\n",
        "    dist[i][i] = 0\n",
        "\n",
        "  for i in range(V):\n",
        "    for j in range(V):\n",
        "      if graph[i][j] == 1:\n",
        "        dist[i][j] = 1\n",
        "        path[i][j] = j\n",
        "        path[j][i] = i\n",
        "\n",
        "\n",
        "  for k in range(V):\n",
        "    for i in range(V):\n",
        "      for j in range(V):\n",
        "\n",
        "        if dist[i][j] > dist[i][k] + dist[k][j]:\n",
        "          dist[i][j] = dist[i][k] + dist[k][j]\n",
        "\n",
        "          path[i][j] = k\n",
        "          # path[k] = j\n",
        "          path[j][i] = k\n",
        "          # path[k] = i\n",
        "          path[i][k] = k\n",
        "          path[k][i] = i\n",
        "          path[j][k] = k\n",
        "          path[k][j] = j          \n",
        "  \n",
        "  # print(\"----------------path-----------------\")\n",
        "  # print(path)\n",
        "  # print(\"-----------path over ----------------\")\n",
        "  return path,dist\n",
        "  # printSolution(dist)\n",
        "\n",
        "\n",
        "\n",
        "\n",
        "\n"
      ]
    },
    {
      "cell_type": "code",
      "execution_count": null,
      "metadata": {},
      "outputs": [],
      "source": [
        "def getNeighbours(graph, start):\n",
        "  neighbours = []\n",
        "\n",
        "  for index, elem in enumerate(graph[start]):\n",
        "    if elem == 1:\n",
        "      neighbours.append(index)\n",
        "  \n",
        "  return neighbours"
      ]
    },
    {
      "cell_type": "code",
      "execution_count": null,
      "metadata": {},
      "outputs": [],
      "source": [
        "def movePredator(predPos, agentPos, path):\n",
        "    return path[predPos][agentPos]"
      ]
    },
    {
      "cell_type": "code",
      "execution_count": null,
      "metadata": {},
      "outputs": [],
      "source": [
        "def getNeighbours(graph, start):\n",
        "  neighbours = []\n",
        "\n",
        "  for index, elem in enumerate(graph[start]):\n",
        "    if elem == 1:\n",
        "      neighbours.append(index)\n",
        "  \n",
        "  return neighbours\n",
        "\n",
        "def movePredator(predPos, agentPos, path):\n",
        "    return path[predPos][agentPos]\n",
        "\n",
        "def agent1Modified(agentPos, preyPos, predPos, graph, dist, path, runs=100):\n",
        "    \n",
        "    while(runs > 0):\n",
        "        if agentPos == predPos:\n",
        "            return False, 2\n",
        "\n",
        "        if agentPos == preyPos:\n",
        "            return True, 0\n",
        "\n",
        "        # move agent\n",
        "        agentPos = moveAgent1(agentPos, preyPos, predPos, graph, dist)\n",
        "\n",
        "        \n",
        "        \n",
        "        # check pred\n",
        "        if agentPos == predPos:\n",
        "            return False, 2\n",
        "\n",
        "        # check prey\n",
        "        if agentPos == preyPos:\n",
        "            return True, 0\n",
        "\n",
        "        # move prey\n",
        "        preyPos = movePrey(preyPos, graph)\n",
        "\n",
        "        if agentPos == preyPos:\n",
        "            return True, 0\n",
        "\n",
        "        # move predator\n",
        "        predPos = movePredator(predPos, agentPos, path)\n",
        "\n",
        "\n",
        "\n",
        "\n",
        "\n",
        "\n",
        "\n",
        "        runs -= 1\n",
        "    \n",
        "    return False, 4"
      ]
    },
    {
      "cell_type": "code",
      "execution_count": null,
      "metadata": {
        "id": "ESTvSCbxC06R"
      },
      "outputs": [],
      "source": [
        "\n",
        "movmoveagent start=curren\n",
        "os\n",
        "  while(runs)\n",
        "    inDistPrey=99999\n",
        "   axDistPred=-99999\n",
        "    for i in rge(graph[start]):\n",
        "      if(gra[start][i]==1):\n",
        "      if(dist[i[]prey[]i<minDistminstPrey:\n",
        "          minDisnextmove\n",
        "    runs-=1\n",
        "\n",
        "\n"
      ]
    },
    {
      "cell_type": "code",
      "execution_count": null,
      "metadata": {
        "id": "9VajZfR4Osxf"
      },
      "outputs": [],
      "source": [
        "#######\n",
        "# agent2\n",
        "#######\n",
        "\n",
        "def agent2(currentPos,preyPos,predPos,graph):\n",
        "  while():\n",
        "\n"
      ]
    },
    {
      "cell_type": "code",
      "execution_count": null,
      "metadata": {
        "colab": {
          "base_uri": "https://localhost:8080/"
        },
        "id": "_yl92uuCaP8n",
        "outputId": "6e71b641-ff1a-4fae-bd55-7ec050b8cedd"
      },
      "outputs": [
        {
          "name": "stdout",
          "output_type": "stream",
          "text": [
            "[[0, 1, 0, 0, 0, 0, 1, 1], [1, 0, 1, 0, 1, 0, 0, 0], [0, 1, 0, 1, 0, 1, 0, 0], [0, 0, 1, 0, 1, 0, 0, 1], [0, 1, 0, 1, 0, 1, 0, 0], [0, 0, 1, 0, 1, 0, 1, 0], [1, 0, 0, 0, 0, 1, 0, 1], [1, 0, 0, 1, 0, 0, 1, 0]]\n",
            "5\n"
          ]
        }
      ],
      "source": [
        "################\n",
        "#graph structure\n",
        "################\n",
        "V = 8\n",
        "INF = 99999\n",
        "degree=[2 for i in range(V)]\n",
        "graph =[[0 for i in range(V)]for j in range(V)]\n",
        "for i  in range(V):\n",
        "  graph[i%V][(i+1)%V]=1\n",
        "  graph[(i+1)%V][i%V]=1\n",
        "# print(graph,\"before\")\n",
        "for i in range(V):\n",
        "  if(degree[i]==2):\n",
        "    deg2List=[]\n",
        "    for j in range(i-5,i+6):\n",
        "      if( i != j and i != j%V and i != (j+1)%V and i != (j-1) % V and degree[j%V]==2):\n",
        "        deg2List.append(j%V)\n",
        "    \n",
        "    deg2List = list(set(deg2List))\n",
        "    if(len(deg2List)!=0):\n",
        "      randomEdgeIndex=random.randint(0,len(deg2List)-1)\n",
        "      randomEdge=deg2List[randomEdgeIndex]\n",
        "      # print(i,randomEdgeIndex,randomEdge,\"test\")\n",
        "      degree[i]+=1\n",
        "      degree[randomEdge]+=1\n",
        "      graph[i][randomEdge]=1\n",
        "      graph[randomEdge][i]=1\n",
        "\n",
        "# print(degree)   \n",
        "# print(graph)\n",
        "path=[]\n",
        "dist=[]\n",
        "path,dist=floydWarshall(graph)\n",
        "\n",
        "print(path,\"\\n\",dist)\n"
      ]
    },
    {
      "cell_type": "code",
      "execution_count": null,
      "metadata": {
        "id": "TY-0K-qLw-yC"
      },
      "outputs": [],
      "source": []
    }
  ],
  "metadata": {
    "colab": {
      "collapsed_sections": [],
      "provenance": []
    },
    "kernelspec": {
      "display_name": "Python 3.7.9 64-bit",
      "language": "python",
      "name": "python3"
    },
    "language_info": {
      "name": "python",
      "version": "3.7.9"
    },
    "vscode": {
      "interpreter": {
        "hash": "aee8b7b246df8f9039afb4144a1f6fd8d2ca17a180786b69acc140d282b71a49"
      }
    }
  },
  "nbformat": 4,
  "nbformat_minor": 0
}
