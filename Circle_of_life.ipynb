{
  "nbformat": 4,
  "nbformat_minor": 0,
  "metadata": {
    "colab": {
      "provenance": [],
      "collapsed_sections": []
    },
    "kernelspec": {
      "name": "python3",
      "display_name": "Python 3"
    },
    "language_info": {
      "name": "python"
    }
  },
  "cells": [
    {
      "cell_type": "code",
      "source": [
        "import random\n",
        "import math"
      ],
      "metadata": {
        "id": "IpzgpOMwjfiX"
      },
      "execution_count": null,
      "outputs": []
    },
    {
      "cell_type": "code",
      "source": [
        "################\n",
        "#prey move\n",
        "################\n",
        "def movePrey(preyPos, graph):\n",
        "  moves = [preyPos]\n",
        "  for i in range(len(graph[preyPos])):\n",
        "    if graph[preyPos][i]==1:\n",
        "      moves.append(i)\n",
        "  return random.choice(moves)"
      ],
      "metadata": {
        "id": "qlOfTwzPbSZ3"
      },
      "execution_count": null,
      "outputs": []
    },
    {
      "cell_type": "code",
      "execution_count": null,
      "metadata": {
        "id": "3gnZfhEHZ-J2"
      },
      "outputs": [],
      "source": [
        "###################\n",
        "#floyd warshall's - predator move \n",
        "###################\n",
        "def floydWarshall(graph):\n",
        "  dist = [[math.inf for i in range(len(graph[0]))]for j in range(len(graph))]\n",
        "  # print(dist)\n",
        "  path = [[i for i in range(V)] for j in range(V)]\n",
        "\n",
        "  for i in range(len(graph)):\n",
        "    dist[i][i] = 0\n",
        "\n",
        "  for i in range(V):\n",
        "    for j in range(V):\n",
        "      if graph[i][j] == 1:\n",
        "        dist[i][j] = 1\n",
        "        path[i][j] = j\n",
        "        path[j][i] = i\n",
        "\n",
        "\n",
        "  for k in range(V):\n",
        "    for i in range(V):\n",
        "      for j in range(V):\n",
        "\n",
        "        if dist[i][j] > dist[i][k] + dist[k][j]:\n",
        "          dist[i][j] = dist[i][k] + dist[k][j]\n",
        "\n",
        "          path[i][j] = k\n",
        "          # path[k] = j\n",
        "          path[j][i] = k\n",
        "          # path[k] = i\n",
        "          path[i][k] = k\n",
        "          path[k][i] = i\n",
        "          path[j][k] = k\n",
        "          path[k][j] = j          \n",
        "  \n",
        "  # print(\"----------------path-----------------\")\n",
        "  # print(path)\n",
        "  # print(\"-----------path over ----------------\")\n",
        "  return path,dist\n",
        "  # printSolution(dist)\n",
        "\n",
        "\n",
        "\n",
        "\n",
        "\n"
      ]
    },
    {
      "cell_type": "code",
      "source": [
        "################\n",
        "#predator moves\n",
        "################\n",
        "def movePred(predPos, graph):\n",
        "  nextmovedist=99999\n",
        "  for i in graph[predPos]:\n",
        "    \n",
        "    \n"
      ],
      "metadata": {
        "id": "p1cGmRln80pO"
      },
      "execution_count": null,
      "outputs": []
    },
    {
      "cell_type": "code",
      "source": [
        "#######\n",
        "# agent1\n",
        "#######\n",
        "\n",
        "def agent1(currentPos,preyPos,predPos,graph):\n",
        "  runs=100\n",
        "  start=currentPos\n",
        "  while(runs):\n",
        "    for i in graph[start]:\n",
        "      if(i==1):\n",
        "        \n",
        "\n",
        "    start=nextmove\n",
        "    runs-=1\n",
        "\n",
        "\n"
      ],
      "metadata": {
        "id": "ESTvSCbxC06R"
      },
      "execution_count": null,
      "outputs": []
    },
    {
      "cell_type": "code",
      "source": [
        "#######\n",
        "# agent2\n",
        "#######\n",
        "\n",
        "def agent2(currentPos,preyPos,predPos,graph):\n",
        "  while():\n",
        "\n"
      ],
      "metadata": {
        "id": "9VajZfR4Osxf"
      },
      "execution_count": null,
      "outputs": []
    },
    {
      "cell_type": "code",
      "source": [
        "################\n",
        "#graph structure\n",
        "################\n",
        "V = 8\n",
        "INF = 99999\n",
        "degree=[2 for i in range(V)]\n",
        "graph =[[0 for i in range(V)]for j in range(V)]\n",
        "for i  in range(V):\n",
        "  graph[i%V][(i+1)%V]=1\n",
        "  graph[(i+1)%V][i%V]=1\n",
        "# print(graph,\"before\")\n",
        "for i in range(V):\n",
        "  if(degree[i]==2):\n",
        "    deg2List=[]\n",
        "    for j in range(i-5,i+6):\n",
        "      if( i != j and i != j%V and i != (j+1)%V and i != (j-1) % V and degree[j%V]==2):\n",
        "        deg2List.append(j%V)\n",
        "    \n",
        "    deg2List = list(set(deg2List))\n",
        "    if(len(deg2List)!=0):\n",
        "      randomEdgeIndex=random.randint(0,len(deg2List)-1)\n",
        "      randomEdge=deg2List[randomEdgeIndex]\n",
        "      # print(i,randomEdgeIndex,randomEdge,\"test\")\n",
        "      degree[i]+=1\n",
        "      degree[randomEdge]+=1\n",
        "      graph[i][randomEdge]=1\n",
        "      graph[randomEdge][i]=1\n",
        "\n",
        "# print(degree)   \n",
        "print(graph)\n",
        "path=[]\n",
        "dist=[]\n",
        "path,dist=floydWarshall(graph)\n",
        "t=movePrey(2, graph)\n",
        "print(t)\n",
        "# print(path,\"\\n\",dist)\n"
      ],
      "metadata": {
        "colab": {
          "base_uri": "https://localhost:8080/"
        },
        "id": "_yl92uuCaP8n",
        "outputId": "6e71b641-ff1a-4fae-bd55-7ec050b8cedd"
      },
      "execution_count": null,
      "outputs": [
        {
          "output_type": "stream",
          "name": "stdout",
          "text": [
            "[[0, 1, 0, 0, 0, 0, 1, 1], [1, 0, 1, 0, 1, 0, 0, 0], [0, 1, 0, 1, 0, 1, 0, 0], [0, 0, 1, 0, 1, 0, 0, 1], [0, 1, 0, 1, 0, 1, 0, 0], [0, 0, 1, 0, 1, 0, 1, 0], [1, 0, 0, 0, 0, 1, 0, 1], [1, 0, 0, 1, 0, 0, 1, 0]]\n",
            "5\n"
          ]
        }
      ]
    },
    {
      "cell_type": "code",
      "source": [],
      "metadata": {
        "id": "TY-0K-qLw-yC"
      },
      "execution_count": null,
      "outputs": []
    }
  ]
}