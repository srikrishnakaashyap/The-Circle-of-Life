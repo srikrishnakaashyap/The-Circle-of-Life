{
  "cells": [
    {
      "cell_type": "code",
      "execution_count": 9,
      "metadata": {
        "id": "IpzgpOMwjfiX"
      },
      "outputs": [],
      "source": [
        "import random\n",
        "import math"
      ]
    },
    {
      "cell_type": "code",
      "execution_count": null,
      "metadata": {
        "id": "qlOfTwzPbSZ3"
      },
      "outputs": [],
      "source": [
        "################\n",
        "#prey move\n",
        "################\n",
        "def movePrey(preyPos, graph):\n",
        "  moves = [preyPos]\n",
        "  for i in range(len(graph[preyPos])):\n",
        "    if graph[preyPos][i]==1:\n",
        "      moves.append(i)\n",
        "  return random.choice(moves)"
      ]
    },
    {
      "cell_type": "code",
      "execution_count": 10,
      "metadata": {
        "id": "3gnZfhEHZ-J2"
      },
      "outputs": [],
      "source": [
        "###################\n",
        "#floyd warshall's - predator move \n",
        "###################\n",
        "def floydWarshall(graph):\n",
        "  dist = [[math.inf for i in range(len(graph[0]))]for j in range(len(graph))]\n",
        "  # print(dist)\n",
        "  path = [[i for i in range(V)] for j in range(V)]\n",
        "\n",
        "  for i in range(len(graph)):\n",
        "    dist[i][i] = 0\n",
        "\n",
        "  for i in range(V):\n",
        "    for j in range(V):\n",
        "      if graph[i][j] == 1:\n",
        "        dist[i][j] = 1\n",
        "        path[i][j] = j\n",
        "        path[j][i] = i\n",
        "\n",
        "\n",
        "  for k in range(V):\n",
        "    for i in range(V):\n",
        "      for j in range(V):\n",
        "\n",
        "        if dist[i][j] > dist[i][k] + dist[k][j]:\n",
        "          dist[i][j] = dist[i][k] + dist[k][j]\n",
        "\n",
        "          path[i][j] = k\n",
        "          # path[k] = j\n",
        "          path[j][i] = k\n",
        "          # path[k] = i\n",
        "          path[i][k] = k\n",
        "          path[k][i] = i\n",
        "          path[j][k] = k\n",
        "          path[k][j] = j          \n",
        "  \n",
        "  # print(\"----------------path-----------------\")\n",
        "  # print(path)\n",
        "  # print(\"-----------path over ----------------\")\n",
        "  return path,dist\n",
        "  # printSolution(dist)\n",
        "\n",
        "\n",
        "\n",
        "\n",
        "\n"
      ]
    },
    {
      "cell_type": "code",
      "execution_count": null,
      "metadata": {},
      "outputs": [],
      "source": [
        "def getNeighbours(graph, start):\n",
        "  neighbours = []\n",
        "\n",
        "  for index, elem in enumerate(graph[start]):\n",
        "    if elem == 1:\n",
        "      neighbours.append(index)\n",
        "  \n",
        "  return neighbours"
      ]
    },
    {
      "cell_type": "code",
      "execution_count": null,
      "metadata": {},
      "outputs": [],
      "source": [
        "def movePredator(predPos, agentPos, path):\n",
        "    return path[predPos][agentPos]"
      ]
    },
    {
      "cell_type": "code",
      "execution_count": null,
      "metadata": {},
      "outputs": [],
      "source": [
        "def getNeighbours(graph, start):\n",
        "  neighbours = []\n",
        "\n",
        "  for index, elem in enumerate(graph[start]):\n",
        "    if elem == 1:\n",
        "      neighbours.append(index)\n",
        "  \n",
        "  return neighbours\n",
        "\n",
        "def movePredator(predPos, agentPos, path):\n",
        "    return path[predPos][agentPos]\n",
        "\n",
        "def agent1Modified(agentPos, preyPos, predPos, graph, dist, path, runs=100):\n",
        "    \n",
        "    while(runs > 0):\n",
        "        if agentPos == predPos:\n",
        "            return False, 2\n",
        "\n",
        "        if agentPos == preyPos:\n",
        "            return True, 0\n",
        "\n",
        "        # move agent\n",
        "        agentPos = moveAgent1(agentPos, preyPos, predPos, graph, dist)\n",
        "\n",
        "        \n",
        "        \n",
        "        # check pred\n",
        "        if agentPos == predPos:\n",
        "            return False, 2\n",
        "\n",
        "        # check prey\n",
        "        if agentPos == preyPos:\n",
        "            return True, 0\n",
        "\n",
        "        # move prey\n",
        "        preyPos = movePrey(preyPos, graph)\n",
        "\n",
        "        if agentPos == preyPos:\n",
        "            return True, 0\n",
        "\n",
        "        # move predator\n",
        "        predPos = movePredator(predPos, agentPos, path)\n",
        "\n",
        "\n",
        "\n",
        "\n",
        "\n",
        "\n",
        "\n",
        "        runs -= 1\n",
        "    \n",
        "    return False, 4"
      ]
    },
    {
      "cell_type": "code",
      "execution_count": null,
      "metadata": {
        "id": "ESTvSCbxC06R"
      },
      "outputs": [],
      "source": [
        "\n"
      ]
    },
    {
      "cell_type": "code",
      "execution_count": null,
      "metadata": {
        "id": "9VajZfR4Osxf"
      },
      "outputs": [],
      "source": []
    },
    {
      "cell_type": "code",
      "execution_count": 5,
      "metadata": {
        "colab": {
          "base_uri": "https://localhost:8080/"
        },
        "id": "_yl92uuCaP8n",
        "outputId": "6e71b641-ff1a-4fae-bd55-7ec050b8cedd"
      },
      "outputs": [
        {
          "name": "stderr",
          "output_type": "stream",
          "text": [
            "C:\\Users\\lokik\\AppData\\Local\\Temp\\ipykernel_34996\\4179583477.py:40: FutureWarning: adjacency_matrix will return a scipy.sparse array instead of a matrix in Networkx 3.0.\n",
            "  adjacency_matrix = nx.adjacency_matrix(G)\n"
          ]
        },
        {
          "ename": "AttributeError",
          "evalue": "module 'scipy.sparse' has no attribute 'coo_array'",
          "output_type": "error",
          "traceback": [
            "\u001b[1;31m---------------------------------------------------------------------------\u001b[0m",
            "\u001b[1;31mAttributeError\u001b[0m                            Traceback (most recent call last)",
            "\u001b[1;32mc:\\Users\\lokik\\PycharmProjects\\pythonProject\\cicle test\\The-Circle-of-Life\\Circle_of_life.ipynb Cell 9\u001b[0m in \u001b[0;36m<cell line: 40>\u001b[1;34m()\u001b[0m\n\u001b[0;32m     <a href='vscode-notebook-cell:/c%3A/Users/lokik/PycharmProjects/pythonProject/cicle%20test/The-Circle-of-Life/Circle_of_life.ipynb#X11sZmlsZQ%3D%3D?line=35'>36</a>\u001b[0m \u001b[39m# path,dist=floydWarshall(graph)\u001b[39;00m\n\u001b[0;32m     <a href='vscode-notebook-cell:/c%3A/Users/lokik/PycharmProjects/pythonProject/cicle%20test/The-Circle-of-Life/Circle_of_life.ipynb#X11sZmlsZQ%3D%3D?line=36'>37</a>\u001b[0m \n\u001b[0;32m     <a href='vscode-notebook-cell:/c%3A/Users/lokik/PycharmProjects/pythonProject/cicle%20test/The-Circle-of-Life/Circle_of_life.ipynb#X11sZmlsZQ%3D%3D?line=37'>38</a>\u001b[0m \u001b[39m# print(path,\"\\n\",dist)\u001b[39;00m\n\u001b[0;32m     <a href='vscode-notebook-cell:/c%3A/Users/lokik/PycharmProjects/pythonProject/cicle%20test/The-Circle-of-Life/Circle_of_life.ipynb#X11sZmlsZQ%3D%3D?line=38'>39</a>\u001b[0m G \u001b[39m=\u001b[39m nx\u001b[39m.\u001b[39mflorentine_families_graph()\n\u001b[1;32m---> <a href='vscode-notebook-cell:/c%3A/Users/lokik/PycharmProjects/pythonProject/cicle%20test/The-Circle-of-Life/Circle_of_life.ipynb#X11sZmlsZQ%3D%3D?line=39'>40</a>\u001b[0m adjacency_matrix \u001b[39m=\u001b[39m nx\u001b[39m.\u001b[39;49madjacency_matrix(G)\n\u001b[0;32m     <a href='vscode-notebook-cell:/c%3A/Users/lokik/PycharmProjects/pythonProject/cicle%20test/The-Circle-of-Life/Circle_of_life.ipynb#X11sZmlsZQ%3D%3D?line=41'>42</a>\u001b[0m \u001b[39m# The actual work\u001b[39;00m\n\u001b[0;32m     <a href='vscode-notebook-cell:/c%3A/Users/lokik/PycharmProjects/pythonProject/cicle%20test/The-Circle-of-Life/Circle_of_life.ipynb#X11sZmlsZQ%3D%3D?line=42'>43</a>\u001b[0m \u001b[39m# You may prefer `nx.from_numpy_matrix`.\u001b[39;00m\n\u001b[0;32m     <a href='vscode-notebook-cell:/c%3A/Users/lokik/PycharmProjects/pythonProject/cicle%20test/The-Circle-of-Life/Circle_of_life.ipynb#X11sZmlsZQ%3D%3D?line=43'>44</a>\u001b[0m G2 \u001b[39m=\u001b[39m nx\u001b[39m.\u001b[39mfrom_scipy_sparse_matrix(adjacency_matrix)\n",
            "File \u001b[1;32mc:\\ProgramData\\Anaconda3\\lib\\site-packages\\networkx\\linalg\\graphmatrix.py:173\u001b[0m, in \u001b[0;36madjacency_matrix\u001b[1;34m(G, nodelist, dtype, weight)\u001b[0m\n\u001b[0;32m    167\u001b[0m warnings\u001b[39m.\u001b[39mwarn(\n\u001b[0;32m    168\u001b[0m     \u001b[39m\"\u001b[39m\u001b[39madjacency_matrix will return a scipy.sparse array instead of a matrix in Networkx 3.0.\u001b[39m\u001b[39m\"\u001b[39m,\n\u001b[0;32m    169\u001b[0m     \u001b[39mFutureWarning\u001b[39;00m,\n\u001b[0;32m    170\u001b[0m     stacklevel\u001b[39m=\u001b[39m\u001b[39m2\u001b[39m,\n\u001b[0;32m    171\u001b[0m )\n\u001b[0;32m    172\u001b[0m \u001b[39m# TODO: Change to `to_scipy_sparse_array` for networkx 3.0\u001b[39;00m\n\u001b[1;32m--> 173\u001b[0m \u001b[39mreturn\u001b[39;00m nx\u001b[39m.\u001b[39;49mto_scipy_sparse_matrix(G, nodelist\u001b[39m=\u001b[39;49mnodelist, dtype\u001b[39m=\u001b[39;49mdtype, weight\u001b[39m=\u001b[39;49mweight)\n",
            "File \u001b[1;32mc:\\ProgramData\\Anaconda3\\lib\\site-packages\\networkx\\convert_matrix.py:1019\u001b[0m, in \u001b[0;36mto_scipy_sparse_matrix\u001b[1;34m(G, nodelist, dtype, weight, format)\u001b[0m\n\u001b[0;32m   1009\u001b[0m \u001b[39mimport\u001b[39;00m \u001b[39mscipy\u001b[39;00m\u001b[39m.\u001b[39;00m\u001b[39msparse\u001b[39;00m\n\u001b[0;32m   1011\u001b[0m warnings\u001b[39m.\u001b[39mwarn(\n\u001b[0;32m   1012\u001b[0m     (\n\u001b[0;32m   1013\u001b[0m         \u001b[39m\"\u001b[39m\u001b[39m\\n\u001b[39;00m\u001b[39m\\n\u001b[39;00m\u001b[39mThe scipy.sparse array containers will be used instead of matrices\u001b[39m\u001b[39m\\n\u001b[39;00m\u001b[39m\"\u001b[39m\n\u001b[1;32m   (...)\u001b[0m\n\u001b[0;32m   1017\u001b[0m     stacklevel\u001b[39m=\u001b[39m\u001b[39m2\u001b[39m,\n\u001b[0;32m   1018\u001b[0m )\n\u001b[1;32m-> 1019\u001b[0m A \u001b[39m=\u001b[39m to_scipy_sparse_array(\n\u001b[0;32m   1020\u001b[0m     G, nodelist\u001b[39m=\u001b[39;49mnodelist, dtype\u001b[39m=\u001b[39;49mdtype, weight\u001b[39m=\u001b[39;49mweight, \u001b[39mformat\u001b[39;49m\u001b[39m=\u001b[39;49m\u001b[39mformat\u001b[39;49m\n\u001b[0;32m   1021\u001b[0m )\n\u001b[0;32m   1022\u001b[0m \u001b[39mreturn\u001b[39;00m sp\u001b[39m.\u001b[39msparse\u001b[39m.\u001b[39mcsr_matrix(A)\u001b[39m.\u001b[39masformat(\u001b[39mformat\u001b[39m)\n",
            "File \u001b[1;32mc:\\ProgramData\\Anaconda3\\lib\\site-packages\\networkx\\convert_matrix.py:921\u001b[0m, in \u001b[0;36mto_scipy_sparse_array\u001b[1;34m(G, nodelist, dtype, weight, format)\u001b[0m\n\u001b[0;32m    919\u001b[0m         r \u001b[39m+\u001b[39m\u001b[39m=\u001b[39m diag_index\n\u001b[0;32m    920\u001b[0m         c \u001b[39m+\u001b[39m\u001b[39m=\u001b[39m diag_index\n\u001b[1;32m--> 921\u001b[0m     A \u001b[39m=\u001b[39m sp\u001b[39m.\u001b[39;49msparse\u001b[39m.\u001b[39;49mcoo_array((d, (r, c)), shape\u001b[39m=\u001b[39m(nlen, nlen), dtype\u001b[39m=\u001b[39mdtype)\n\u001b[0;32m    922\u001b[0m \u001b[39mtry\u001b[39;00m:\n\u001b[0;32m    923\u001b[0m     \u001b[39mreturn\u001b[39;00m A\u001b[39m.\u001b[39masformat(\u001b[39mformat\u001b[39m)\n",
            "\u001b[1;31mAttributeError\u001b[0m: module 'scipy.sparse' has no attribute 'coo_array'"
          ]
        }
      ],
      "source": [
        "################\n",
        "#graph structure\n",
        "################\n",
        "import matplotlib.pyplot as plt\n",
        "import networkx as nx\n",
        "import random\n",
        "V = 8\n",
        "INF = 99999\n",
        "degree=[2 for i in range(V)]\n",
        "graph =[[0 for i in range(V)]for j in range(V)]\n",
        "for i  in range(V):\n",
        "  graph[i%V][(i+1)%V]=1\n",
        "  graph[(i+1)%V][i%V]=1\n",
        "# print(graph,\"before\")\n",
        "for i in range(V):\n",
        "  if(degree[i]==2):\n",
        "    deg2List=[]\n",
        "    for j in range(i-5,i+6):\n",
        "      if( i != j and i != j%V and i != (j+1)%V and i != (j-1) % V and degree[j%V]==2):\n",
        "        deg2List.append(j%V)\n",
        "    \n",
        "    deg2List = list(set(deg2List))\n",
        "    if(len(deg2List)!=0):\n",
        "      randomEdgeIndex=random.randint(0,len(deg2List)-1)\n",
        "      randomEdge=deg2List[randomEdgeIndex]\n",
        "      # print(i,randomEdgeIndex,randomEdge,\"test\")\n",
        "      degree[i]+=1\n",
        "      degree[randomEdge]+=1\n",
        "      graph[i][randomEdge]=1\n",
        "      graph[randomEdge][i]=1\n",
        "\n",
        "# print(degree)   \n",
        "# print(graph)\n",
        "path=[]\n",
        "dist=[]\n",
        "# path,dist=floydWarshall(graph)\n",
        "\n",
        "# print(path,\"\\n\",dist)\n",
        "G = nx.florentine_families_graph()\n",
        "adjacency_matrix = nx.adjacency_matrix(G)\n",
        "\n",
        "# The actual work\n",
        "# You may prefer `nx.from_numpy_matrix`.\n",
        "G2 = nx.from_scipy_sparse_matrix(adjacency_matrix)\n",
        "nx.draw_circular(G2)\n",
        "plt.axis('equal')"
      ]
    },
    {
      "cell_type": "code",
      "execution_count": 81,
      "metadata": {
        "id": "TY-0K-qLw-yC"
      },
      "outputs": [],
      "source": [
        "import matplotlib\n",
        "import matplotlib.pyplot as plt\n",
        "import networkx as nx\n",
        "\n",
        "\n",
        "\n",
        "G = nx.cycle_graph(50)\n",
        "\n"
      ]
    },
    {
      "cell_type": "code",
      "execution_count": 82,
      "metadata": {},
      "outputs": [
        {
          "name": "stdout",
          "output_type": "stream",
          "text": [
            "[(0, 1, {}), (0, 49, {}), (1, 2, {}), (2, 3, {}), (3, 4, {}), (4, 5, {}), (5, 6, {}), (6, 7, {}), (7, 8, {}), (8, 9, {}), (9, 10, {}), (10, 11, {}), (11, 12, {}), (12, 13, {}), (13, 14, {}), (14, 15, {}), (15, 16, {}), (16, 17, {}), (17, 18, {}), (18, 19, {}), (19, 20, {}), (20, 21, {}), (21, 22, {}), (22, 23, {}), (23, 24, {}), (24, 25, {}), (25, 26, {}), (26, 27, {}), (27, 28, {}), (28, 29, {}), (29, 30, {}), (30, 31, {}), (31, 32, {}), (32, 33, {}), (33, 34, {}), (34, 35, {}), (35, 36, {}), (36, 37, {}), (37, 38, {}), (38, 39, {}), (39, 40, {}), (40, 41, {}), (41, 42, {}), (42, 43, {}), (43, 44, {}), (44, 45, {}), (45, 46, {}), (46, 47, {}), (47, 48, {}), (48, 49, {})]\n"
          ]
        }
      ],
      "source": [
        "print(G.edges(data=True))"
      ]
    },
    {
      "cell_type": "code",
      "execution_count": 75,
      "metadata": {},
      "outputs": [],
      "source": [
        "for i in range(len(graph)):\n",
        "    for j in range(len(graph[0])):\n",
        "        if graph[i][j] == 1:\n",
        "            G.add_edge(i, j, weight = dist[i][j])"
      ]
    },
    {
      "cell_type": "code",
      "execution_count": 77,
      "metadata": {},
      "outputs": [
        {
          "name": "stdout",
          "output_type": "stream",
          "text": [
            "[(0, 1, {'weight': 1}), (0, 49, {'weight': 1}), (0, 48, {'weight': 1}), (1, 2, {'weight': 1}), (1, 47, {'weight': 1}), (2, 3, {'weight': 1}), (2, 6, {'weight': 1}), (3, 4, {'weight': 1}), (3, 7, {'weight': 1}), (4, 5, {'weight': 1}), (4, 49, {'weight': 1}), (5, 6, {'weight': 1}), (5, 8, {'weight': 1}), (6, 7, {'weight': 1}), (7, 8, {'weight': 1}), (8, 9, {'weight': 1}), (9, 10, {'weight': 1}), (9, 14, {'weight': 1}), (10, 11, {'weight': 1}), (10, 15, {'weight': 1}), (11, 12, {'weight': 1}), (11, 16, {'weight': 1}), (12, 13, {'weight': 1}), (12, 17, {'weight': 1}), (13, 14, {'weight': 1}), (13, 18, {'weight': 1}), (14, 15, {'weight': 1}), (15, 16, {'weight': 1}), (16, 17, {'weight': 1}), (17, 18, {'weight': 1}), (18, 19, {'weight': 1}), (19, 20, {'weight': 1}), (19, 23, {'weight': 1}), (20, 21, {'weight': 1}), (20, 22, {'weight': 1}), (21, 22, {'weight': 1}), (21, 26, {'weight': 1}), (22, 23, {'weight': 1}), (23, 24, {'weight': 1}), (24, 25, {'weight': 1}), (24, 27, {'weight': 1}), (25, 26, {'weight': 1}), (25, 28, {'weight': 1}), (26, 27, {'weight': 1}), (27, 28, {'weight': 1}), (28, 29, {'weight': 1}), (29, 30, {'weight': 1}), (29, 32, {'weight': 1}), (30, 31, {'weight': 1}), (30, 35, {'weight': 1}), (31, 32, {'weight': 1}), (31, 34, {'weight': 1}), (32, 33, {'weight': 1}), (33, 34, {'weight': 1}), (33, 36, {'weight': 1}), (34, 35, {'weight': 1}), (35, 36, {'weight': 1}), (36, 37, {'weight': 1}), (37, 38, {'weight': 1}), (37, 42, {'weight': 1}), (38, 39, {'weight': 1}), (38, 41, {'weight': 1}), (39, 40, {'weight': 1}), (39, 44, {'weight': 1}), (40, 41, {'weight': 1}), (40, 45, {'weight': 1}), (41, 42, {'weight': 1}), (42, 43, {'weight': 1}), (43, 44, {'weight': 1}), (43, 46, {'weight': 1}), (44, 45, {'weight': 1}), (45, 46, {'weight': 1}), (46, 47, {'weight': 1}), (47, 48, {'weight': 1}), (48, 49, {'weight': 1}), ('0', '1', {'weight': 1}), ('0', '48', {'weight': 1}), ('0', '49', {'weight': 1}), ('1', '2', {'weight': 1}), ('1', '47', {'weight': 1}), ('48', '47', {'weight': 1}), ('48', '49', {'weight': 1}), ('49', '4', {'weight': 1}), ('2', '3', {'weight': 1}), ('2', '6', {'weight': 1}), ('47', '46', {'weight': 1}), ('3', '4', {'weight': 1}), ('3', '7', {'weight': 1}), ('6', '5', {'weight': 1}), ('6', '7', {'weight': 1}), ('4', '5', {'weight': 1}), ('7', '8', {'weight': 1}), ('5', '8', {'weight': 1}), ('8', '9', {'weight': 1}), ('9', '10', {'weight': 1}), ('9', '14', {'weight': 1}), ('10', '11', {'weight': 1}), ('10', '15', {'weight': 1}), ('14', '13', {'weight': 1}), ('14', '15', {'weight': 1}), ('11', '12', {'weight': 1}), ('11', '16', {'weight': 1}), ('15', '16', {'weight': 1}), ('12', '13', {'weight': 1}), ('12', '17', {'weight': 1}), ('16', '17', {'weight': 1}), ('13', '18', {'weight': 1}), ('17', '18', {'weight': 1}), ('18', '19', {'weight': 1}), ('19', '20', {'weight': 1}), ('19', '23', {'weight': 1}), ('20', '21', {'weight': 1}), ('20', '22', {'weight': 1}), ('23', '22', {'weight': 1}), ('23', '24', {'weight': 1}), ('21', '22', {'weight': 1}), ('21', '26', {'weight': 1}), ('26', '25', {'weight': 1}), ('26', '27', {'weight': 1}), ('24', '25', {'weight': 1}), ('24', '27', {'weight': 1}), ('25', '28', {'weight': 1}), ('27', '28', {'weight': 1}), ('28', '29', {'weight': 1}), ('29', '30', {'weight': 1}), ('29', '32', {'weight': 1}), ('30', '31', {'weight': 1}), ('30', '35', {'weight': 1}), ('32', '31', {'weight': 1}), ('32', '33', {'weight': 1}), ('31', '34', {'weight': 1}), ('35', '34', {'weight': 1}), ('35', '36', {'weight': 1}), ('34', '33', {'weight': 1}), ('33', '36', {'weight': 1}), ('36', '37', {'weight': 1}), ('37', '38', {'weight': 1}), ('37', '42', {'weight': 1}), ('38', '39', {'weight': 1}), ('38', '41', {'weight': 1}), ('42', '41', {'weight': 1}), ('42', '43', {'weight': 1}), ('39', '40', {'weight': 1}), ('39', '44', {'weight': 1}), ('41', '40', {'weight': 1}), ('40', '45', {'weight': 1}), ('44', '43', {'weight': 1}), ('44', '45', {'weight': 1}), ('45', '46', {'weight': 1}), ('43', '46', {'weight': 1})]\n"
          ]
        }
      ],
      "source": [
        "print(G.edges(data=True))"
      ]
    },
    {
      "cell_type": "code",
      "execution_count": 69,
      "metadata": {},
      "outputs": [
        {
          "name": "stdout",
          "output_type": "stream",
          "text": [
            "(0, 1, {})\n"
          ]
        },
        {
          "ename": "KeyError",
          "evalue": "'weight'",
          "output_type": "error",
          "traceback": [
            "\u001b[0;31m---------------------------------------------------------------------------\u001b[0m",
            "\u001b[0;31mKeyError\u001b[0m                                  Traceback (most recent call last)",
            "\u001b[0;32m/var/folders/sf/f52nyfnn6rj78wv42_n2wsx40000gn/T/ipykernel_41809/792113514.py\u001b[0m in \u001b[0;36m<module>\u001b[0;34m\u001b[0m\n\u001b[1;32m     14\u001b[0m     arrowprops=dict(arrowstyle=\"-\",\n\u001b[1;32m     15\u001b[0m                     \u001b[0mcolor\u001b[0m\u001b[0;34m=\u001b[0m\u001b[0;34m'blue'\u001b[0m\u001b[0;34m,\u001b[0m\u001b[0;34m\u001b[0m\u001b[0;34m\u001b[0m\u001b[0m\n\u001b[0;32m---> 16\u001b[0;31m                     \u001b[0mconnectionstyle\u001b[0m\u001b[0;34m=\u001b[0m\u001b[0;34mf\"arc3,rad={0.5*radius['weight']}\"\u001b[0m\u001b[0;34m,\u001b[0m\u001b[0;34m\u001b[0m\u001b[0;34m\u001b[0m\u001b[0m\n\u001b[0m\u001b[1;32m     17\u001b[0m                     \u001b[0mlinestyle\u001b[0m\u001b[0;34m=\u001b[0m \u001b[0;34m'-'\u001b[0m\u001b[0;34m,\u001b[0m\u001b[0;34m\u001b[0m\u001b[0;34m\u001b[0m\u001b[0m\n\u001b[1;32m     18\u001b[0m                     alpha=0.6,)\n",
            "\u001b[0;31mKeyError\u001b[0m: 'weight'"
          ]
        },
        {
          "data": {
            "image/png": "[encoded data removed]",
            "text/plain": [
              "<Figure size 1440x1440 with 1 Axes>"
            ]
          },
          "metadata": {},
          "output_type": "display_data"
        }
      ],
      "source": [
        "pos = nx.circular_layout(G)  # positions for all nodes\n",
        "\n",
        "ax = plt.gca()\n",
        "\n",
        "ax1=plt.gcf()\n",
        "ax1.set_size_inches(20, 20)\n",
        "# nodes\n",
        "sc = nx.draw_networkx_nodes(G, pos, node_size=300)\n",
        "nx.draw_networkx_edges(G, pos, edgelist=G.edges(), width=0)\n",
        "\n",
        "for edge in G.edges(data=True):\n",
        "    print(edge)\n",
        "    source, target, radius = edge\n",
        "    arrowprops=dict(arrowstyle=\"-\",\n",
        "                    color='blue',\n",
        "                    connectionstyle=f\"arc3,rad={0.5*radius['weight']}\",\n",
        "                    linestyle= '-',\n",
        "                    alpha=0.6,)\n",
        "    ax.annotate(\"\",\n",
        "                xy=pos[source],\n",
        "                xytext=pos[target],\n",
        "                arrowprops=arrowprops\n",
        "               )\n",
        "\n",
        "nx.draw_networkx_labels(G, pos, font_size=10, font_family=\"sans-serif\")\n",
        "plt.show()"
      ]
    },
    {
      "cell_type": "code",
      "execution_count": null,
      "metadata": {},
      "outputs": [],
      "source": []
    },
    {
      "cell_type": "code",
      "execution_count": null,
      "metadata": {},
      "outputs": [],
      "source": []
    }
  ],
  "metadata": {
    "colab": {
      "collapsed_sections": [],
      "provenance": []
    },
    "kernelspec": {
      "display_name": "venv",
      "language": "python",
      "name": "venv"
    },
    "language_info": {
      "codemirror_mode": {
        "name": "ipython",
        "version": 3
      },
      "file_extension": ".py",
      "mimetype": "text/x-python",
      "name": "python",
      "nbconvert_exporter": "python",
      "pygments_lexer": "ipython3",
      "version": "3.7.9"
    },
    "vscode": {
      "interpreter": {
        "hash": "ad2bdc8ecc057115af97d19610ffacc2b4e99fae6737bb82f5d7fb13d2f2c186"
      }
    }
  },
  "nbformat": 4,
  "nbformat_minor": 0
}
