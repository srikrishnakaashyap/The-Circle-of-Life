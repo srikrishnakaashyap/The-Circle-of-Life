{
  "cells": [
    {
      "cell_type": "code",
      "execution_count": 1,
      "metadata": {
        "id": "IpzgpOMwjfiX"
      },
      "outputs": [],
      "source": [
        "import random\n",
        "import math"
      ]
    },
    {
      "cell_type": "code",
      "execution_count": null,
      "metadata": {
        "id": "qlOfTwzPbSZ3"
      },
      "outputs": [],
      "source": [
        "################\n",
        "#prey move\n",
        "################\n",
        "def movePrey(preyPos, graph):\n",
        "  moves = [preyPos]\n",
        "  for i in range(len(graph[preyPos])):\n",
        "    if graph[preyPos][i]==1:\n",
        "      moves.append(i)\n",
        "  return random.choice(moves)"
      ]
    },
    {
      "cell_type": "code",
      "execution_count": null,
      "metadata": {
        "id": "3gnZfhEHZ-J2"
      },
      "outputs": [],
      "source": [
        "###################\n",
        "#floyd warshall's - predator move \n",
        "###################\n",
        "def floydWarshall(graph):\n",
        "  dist = [[math.inf for i in range(len(graph[0]))]for j in range(len(graph))]\n",
        "  # print(dist)\n",
        "  path = [[i for i in range(V)] for j in range(V)]\n",
        "\n",
        "  for i in range(len(graph)):\n",
        "    dist[i][i] = 0\n",
        "\n",
        "  for i in range(V):\n",
        "    for j in range(V):\n",
        "      if graph[i][j] == 1:\n",
        "        dist[i][j] = 1\n",
        "        path[i][j] = j\n",
        "        path[j][i] = i\n",
        "\n",
        "\n",
        "  for k in range(V):\n",
        "    for i in range(V):\n",
        "      for j in range(V):\n",
        "\n",
        "        if dist[i][j] > dist[i][k] + dist[k][j]:\n",
        "          dist[i][j] = dist[i][k] + dist[k][j]\n",
        "\n",
        "          path[i][j] = k\n",
        "          # path[k] = j\n",
        "          path[j][i] = k\n",
        "          # path[k] = i\n",
        "          path[i][k] = k\n",
        "          path[k][i] = i\n",
        "          path[j][k] = k\n",
        "          path[k][j] = j          \n",
        "  \n",
        "  # print(\"----------------path-----------------\")\n",
        "  # print(path)\n",
        "  # print(\"-----------path over ----------------\")\n",
        "  return path,dist\n",
        "  # printSolution(dist)\n",
        "\n",
        "\n",
        "\n",
        "\n",
        "\n"
      ]
    },
    {
      "cell_type": "code",
      "execution_count": null,
      "metadata": {},
      "outputs": [],
      "source": [
        "def getNeighbours(graph, start):\n",
        "  neighbours = []\n",
        "\n",
        "  for index, elem in enumerate(graph[start]):\n",
        "    if elem == 1:\n",
        "      neighbours.append(index)\n",
        "  \n",
        "  return neighbours"
      ]
    },
    {
      "cell_type": "code",
      "execution_count": null,
      "metadata": {},
      "outputs": [],
      "source": [
        "def movePredator(predPos, agentPos, path):\n",
        "    return path[predPos][agentPos]"
      ]
    },
    {
      "cell_type": "code",
      "execution_count": null,
      "metadata": {},
      "outputs": [],
      "source": [
        "def getNeighbours(graph, start):\n",
        "  neighbours = []\n",
        "\n",
        "  for index, elem in enumerate(graph[start]):\n",
        "    if elem == 1:\n",
        "      neighbours.append(index)\n",
        "  \n",
        "  return neighbours\n",
        "\n",
        "def movePredator(predPos, agentPos, path):\n",
        "    return path[predPos][agentPos]\n",
        "\n",
        "def agent1Modified(agentPos, preyPos, predPos, graph, dist, path, runs=100):\n",
        "    \n",
        "    while(runs > 0):\n",
        "        if agentPos == predPos:\n",
        "            return False, 2\n",
        "\n",
        "        if agentPos == preyPos:\n",
        "            return True, 0\n",
        "\n",
        "        # move agent\n",
        "        agentPos = moveAgent1(agentPos, preyPos, predPos, graph, dist)\n",
        "\n",
        "        \n",
        "        \n",
        "        # check pred\n",
        "        if agentPos == predPos:\n",
        "            return False, 2\n",
        "\n",
        "        # check prey\n",
        "        if agentPos == preyPos:\n",
        "            return True, 0\n",
        "\n",
        "        # move prey\n",
        "        preyPos = movePrey(preyPos, graph)\n",
        "\n",
        "        if agentPos == preyPos:\n",
        "            return True, 0\n",
        "\n",
        "        # move predator\n",
        "        predPos = movePredator(predPos, agentPos, path)\n",
        "\n",
        "\n",
        "\n",
        "\n",
        "\n",
        "\n",
        "\n",
        "        runs -= 1\n",
        "    \n",
        "    return False, 4"
      ]
    },
    {
      "cell_type": "code",
      "execution_count": null,
      "metadata": {
        "id": "ESTvSCbxC06R"
      },
      "outputs": [],
      "source": [
        "\n"
      ]
    },
    {
      "cell_type": "code",
      "execution_count": null,
      "metadata": {
        "id": "9VajZfR4Osxf"
      },
      "outputs": [],
      "source": []
    },
    {
      "cell_type": "code",
      "execution_count": 5,
      "metadata": {
        "colab": {
          "base_uri": "https://localhost:8080/"
        },
        "id": "_yl92uuCaP8n",
        "outputId": "6e71b641-ff1a-4fae-bd55-7ec050b8cedd"
      },
      "outputs": [
        {
          "name": "stderr",
          "output_type": "stream",
          "text": [
            "C:\\Users\\lokik\\AppData\\Local\\Temp\\ipykernel_34996\\4179583477.py:40: FutureWarning: adjacency_matrix will return a scipy.sparse array instead of a matrix in Networkx 3.0.\n",
            "  adjacency_matrix = nx.adjacency_matrix(G)\n"
          ]
        },
        {
          "ename": "AttributeError",
          "evalue": "module 'scipy.sparse' has no attribute 'coo_array'",
          "output_type": "error",
          "traceback": [
            "\u001b[1;31m---------------------------------------------------------------------------\u001b[0m",
            "\u001b[1;31mAttributeError\u001b[0m                            Traceback (most recent call last)",
            "\u001b[1;32mc:\\Users\\lokik\\PycharmProjects\\pythonProject\\cicle test\\The-Circle-of-Life\\Circle_of_life.ipynb Cell 9\u001b[0m in \u001b[0;36m<cell line: 40>\u001b[1;34m()\u001b[0m\n\u001b[0;32m     <a href='vscode-notebook-cell:/c%3A/Users/lokik/PycharmProjects/pythonProject/cicle%20test/The-Circle-of-Life/Circle_of_life.ipynb#X11sZmlsZQ%3D%3D?line=35'>36</a>\u001b[0m \u001b[39m# path,dist=floydWarshall(graph)\u001b[39;00m\n\u001b[0;32m     <a href='vscode-notebook-cell:/c%3A/Users/lokik/PycharmProjects/pythonProject/cicle%20test/The-Circle-of-Life/Circle_of_life.ipynb#X11sZmlsZQ%3D%3D?line=36'>37</a>\u001b[0m \n\u001b[0;32m     <a href='vscode-notebook-cell:/c%3A/Users/lokik/PycharmProjects/pythonProject/cicle%20test/The-Circle-of-Life/Circle_of_life.ipynb#X11sZmlsZQ%3D%3D?line=37'>38</a>\u001b[0m \u001b[39m# print(path,\"\\n\",dist)\u001b[39;00m\n\u001b[0;32m     <a href='vscode-notebook-cell:/c%3A/Users/lokik/PycharmProjects/pythonProject/cicle%20test/The-Circle-of-Life/Circle_of_life.ipynb#X11sZmlsZQ%3D%3D?line=38'>39</a>\u001b[0m G \u001b[39m=\u001b[39m nx\u001b[39m.\u001b[39mflorentine_families_graph()\n\u001b[1;32m---> <a href='vscode-notebook-cell:/c%3A/Users/lokik/PycharmProjects/pythonProject/cicle%20test/The-Circle-of-Life/Circle_of_life.ipynb#X11sZmlsZQ%3D%3D?line=39'>40</a>\u001b[0m adjacency_matrix \u001b[39m=\u001b[39m nx\u001b[39m.\u001b[39;49madjacency_matrix(G)\n\u001b[0;32m     <a href='vscode-notebook-cell:/c%3A/Users/lokik/PycharmProjects/pythonProject/cicle%20test/The-Circle-of-Life/Circle_of_life.ipynb#X11sZmlsZQ%3D%3D?line=41'>42</a>\u001b[0m \u001b[39m# The actual work\u001b[39;00m\n\u001b[0;32m     <a href='vscode-notebook-cell:/c%3A/Users/lokik/PycharmProjects/pythonProject/cicle%20test/The-Circle-of-Life/Circle_of_life.ipynb#X11sZmlsZQ%3D%3D?line=42'>43</a>\u001b[0m \u001b[39m# You may prefer `nx.from_numpy_matrix`.\u001b[39;00m\n\u001b[0;32m     <a href='vscode-notebook-cell:/c%3A/Users/lokik/PycharmProjects/pythonProject/cicle%20test/The-Circle-of-Life/Circle_of_life.ipynb#X11sZmlsZQ%3D%3D?line=43'>44</a>\u001b[0m G2 \u001b[39m=\u001b[39m nx\u001b[39m.\u001b[39mfrom_scipy_sparse_matrix(adjacency_matrix)\n",
            "File \u001b[1;32mc:\\ProgramData\\Anaconda3\\lib\\site-packages\\networkx\\linalg\\graphmatrix.py:173\u001b[0m, in \u001b[0;36madjacency_matrix\u001b[1;34m(G, nodelist, dtype, weight)\u001b[0m\n\u001b[0;32m    167\u001b[0m warnings\u001b[39m.\u001b[39mwarn(\n\u001b[0;32m    168\u001b[0m     \u001b[39m\"\u001b[39m\u001b[39madjacency_matrix will return a scipy.sparse array instead of a matrix in Networkx 3.0.\u001b[39m\u001b[39m\"\u001b[39m,\n\u001b[0;32m    169\u001b[0m     \u001b[39mFutureWarning\u001b[39;00m,\n\u001b[0;32m    170\u001b[0m     stacklevel\u001b[39m=\u001b[39m\u001b[39m2\u001b[39m,\n\u001b[0;32m    171\u001b[0m )\n\u001b[0;32m    172\u001b[0m \u001b[39m# TODO: Change to `to_scipy_sparse_array` for networkx 3.0\u001b[39;00m\n\u001b[1;32m--> 173\u001b[0m \u001b[39mreturn\u001b[39;00m nx\u001b[39m.\u001b[39;49mto_scipy_sparse_matrix(G, nodelist\u001b[39m=\u001b[39;49mnodelist, dtype\u001b[39m=\u001b[39;49mdtype, weight\u001b[39m=\u001b[39;49mweight)\n",
            "File \u001b[1;32mc:\\ProgramData\\Anaconda3\\lib\\site-packages\\networkx\\convert_matrix.py:1019\u001b[0m, in \u001b[0;36mto_scipy_sparse_matrix\u001b[1;34m(G, nodelist, dtype, weight, format)\u001b[0m\n\u001b[0;32m   1009\u001b[0m \u001b[39mimport\u001b[39;00m \u001b[39mscipy\u001b[39;00m\u001b[39m.\u001b[39;00m\u001b[39msparse\u001b[39;00m\n\u001b[0;32m   1011\u001b[0m warnings\u001b[39m.\u001b[39mwarn(\n\u001b[0;32m   1012\u001b[0m     (\n\u001b[0;32m   1013\u001b[0m         \u001b[39m\"\u001b[39m\u001b[39m\\n\u001b[39;00m\u001b[39m\\n\u001b[39;00m\u001b[39mThe scipy.sparse array containers will be used instead of matrices\u001b[39m\u001b[39m\\n\u001b[39;00m\u001b[39m\"\u001b[39m\n\u001b[1;32m   (...)\u001b[0m\n\u001b[0;32m   1017\u001b[0m     stacklevel\u001b[39m=\u001b[39m\u001b[39m2\u001b[39m,\n\u001b[0;32m   1018\u001b[0m )\n\u001b[1;32m-> 1019\u001b[0m A \u001b[39m=\u001b[39m to_scipy_sparse_array(\n\u001b[0;32m   1020\u001b[0m     G, nodelist\u001b[39m=\u001b[39;49mnodelist, dtype\u001b[39m=\u001b[39;49mdtype, weight\u001b[39m=\u001b[39;49mweight, \u001b[39mformat\u001b[39;49m\u001b[39m=\u001b[39;49m\u001b[39mformat\u001b[39;49m\n\u001b[0;32m   1021\u001b[0m )\n\u001b[0;32m   1022\u001b[0m \u001b[39mreturn\u001b[39;00m sp\u001b[39m.\u001b[39msparse\u001b[39m.\u001b[39mcsr_matrix(A)\u001b[39m.\u001b[39masformat(\u001b[39mformat\u001b[39m)\n",
            "File \u001b[1;32mc:\\ProgramData\\Anaconda3\\lib\\site-packages\\networkx\\convert_matrix.py:921\u001b[0m, in \u001b[0;36mto_scipy_sparse_array\u001b[1;34m(G, nodelist, dtype, weight, format)\u001b[0m\n\u001b[0;32m    919\u001b[0m         r \u001b[39m+\u001b[39m\u001b[39m=\u001b[39m diag_index\n\u001b[0;32m    920\u001b[0m         c \u001b[39m+\u001b[39m\u001b[39m=\u001b[39m diag_index\n\u001b[1;32m--> 921\u001b[0m     A \u001b[39m=\u001b[39m sp\u001b[39m.\u001b[39;49msparse\u001b[39m.\u001b[39;49mcoo_array((d, (r, c)), shape\u001b[39m=\u001b[39m(nlen, nlen), dtype\u001b[39m=\u001b[39mdtype)\n\u001b[0;32m    922\u001b[0m \u001b[39mtry\u001b[39;00m:\n\u001b[0;32m    923\u001b[0m     \u001b[39mreturn\u001b[39;00m A\u001b[39m.\u001b[39masformat(\u001b[39mformat\u001b[39m)\n",
            "\u001b[1;31mAttributeError\u001b[0m: module 'scipy.sparse' has no attribute 'coo_array'"
          ]
        }
      ],
      "source": [
        "################\n",
        "#graph structure\n",
        "################\n",
        "import matplotlib.pyplot as plt\n",
        "import networkx as nx\n",
        "import random\n",
        "V = 8\n",
        "INF = 99999\n",
        "degree=[2 for i in range(V)]\n",
        "graph =[[0 for i in range(V)]for j in range(V)]\n",
        "for i  in range(V):\n",
        "  graph[i%V][(i+1)%V]=1\n",
        "  graph[(i+1)%V][i%V]=1\n",
        "# print(graph,\"before\")\n",
        "for i in range(V):\n",
        "  if(degree[i]==2):\n",
        "    deg2List=[]\n",
        "    for j in range(i-5,i+6):\n",
        "      if( i != j and i != j%V and i != (j+1)%V and i != (j-1) % V and degree[j%V]==2):\n",
        "        deg2List.append(j%V)\n",
        "    \n",
        "    deg2List = list(set(deg2List))\n",
        "    if(len(deg2List)!=0):\n",
        "      randomEdgeIndex=random.randint(0,len(deg2List)-1)\n",
        "      randomEdge=deg2List[randomEdgeIndex]\n",
        "      # print(i,randomEdgeIndex,randomEdge,\"test\")\n",
        "      degree[i]+=1\n",
        "      degree[randomEdge]+=1\n",
        "      graph[i][randomEdge]=1\n",
        "      graph[randomEdge][i]=1\n",
        "\n",
        "# print(degree)   \n",
        "# print(graph)\n",
        "path=[]\n",
        "dist=[]\n",
        "# path,dist=floydWarshall(graph)\n",
        "\n",
        "# print(path,\"\\n\",dist)\n",
        "G = nx.florentine_families_graph()\n",
        "adjacency_matrix = nx.adjacency_matrix(G)\n",
        "\n",
        "# The actual work\n",
        "# You may prefer `nx.from_numpy_matrix`.\n",
        "G2 = nx.from_scipy_sparse_matrix(adjacency_matrix)\n",
        "nx.draw_circular(G2)\n",
        "plt.axis('equal')"
      ]
    },
    {
      "cell_type": "code",
      "execution_count": null,
      "metadata": {
        "id": "TY-0K-qLw-yC"
      },
      "outputs": [],
      "source": []
    }
  ],
  "metadata": {
    "colab": {
      "collapsed_sections": [],
      "provenance": []
    },
    "kernelspec": {
      "display_name": "Python 3.9.12 ('base')",
      "language": "python",
      "name": "python3"
    },
    "language_info": {
      "codemirror_mode": {
        "name": "ipython",
        "version": 3
      },
      "file_extension": ".py",
      "mimetype": "text/x-python",
      "name": "python",
      "nbconvert_exporter": "python",
      "pygments_lexer": "ipython3",
      "version": "3.9.12"
    },
    "vscode": {
      "interpreter": {
        "hash": "ad2bdc8ecc057115af97d19610ffacc2b4e99fae6737bb82f5d7fb13d2f2c186"
      }
    }
  },
  "nbformat": 4,
  "nbformat_minor": 0
}
